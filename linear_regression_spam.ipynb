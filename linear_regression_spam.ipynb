{
 "cells": [
  {
   "cell_type": "code",
   "execution_count": 40,
   "metadata": {},
   "outputs": [],
   "source": [
    "import pandas as pd\n",
    "import numpy as np\n",
    "import matplotlib.pyplot as plt\n"
   ]
  },
  {
   "cell_type": "code",
   "execution_count": 41,
   "metadata": {},
   "outputs": [
    {
     "name": "stdout",
     "output_type": "stream",
     "text": [
      "Index(['0', '0.64', '0.64.1', '0.1', '0.32', '0.2', '0.3', '0.4', '0.5', '0.6',\n",
      "       '0.7', '0.64.2', '0.8', '0.9', '0.10', '0.32.1', '0.11', '1.29', '1.93',\n",
      "       '0.12', '0.96', '0.13', '0.14', '0.15', '0.16', '0.17', '0.18', '0.19',\n",
      "       '0.20', '0.21', '0.22', '0.23', '0.24', '0.25', '0.26', '0.27', '0.28',\n",
      "       '0.29', '0.30', '0.31', '0.33', '0.34', '0.35', '0.36', '0.37', '0.38',\n",
      "       '0.39', '0.40', '0.41', '0.42', '0.43', '0.778', '0.44', '0.45',\n",
      "       '3.756', '61', '278', '1'],\n",
      "      dtype='object')\n"
     ]
    }
   ],
   "source": [
    "# 1. Load the data\n",
    "df = pd.read_csv('spambase.data', delimiter=',')\n",
    "\n",
    "print(df.columns)"
   ]
  },
  {
   "cell_type": "code",
   "execution_count": 42,
   "metadata": {},
   "outputs": [
    {
     "name": "stdout",
     "output_type": "stream",
     "text": [
      "['word_freq_make', 'word_freq_address', 'word_freq_all', 'word_freq_3d', 'word_freq_our', 'word_freq_over', 'word_freq_remove', 'word_freq_internet', 'word_freq_order', 'word_freq_mail', 'word_freq_receive', 'word_freq_will', 'word_freq_people', 'word_freq_report', 'word_freq_addresses', 'word_freq_free', 'word_freq_business', 'word_freq_email', 'word_freq_you', 'word_freq_credit', 'word_freq_your', 'word_freq_font', 'word_freq_000', 'word_freq_money', 'word_freq_hp', 'word_freq_hpl', 'word_freq_george', 'word_freq_650', 'word_freq_lab', 'word_freq_labs', 'word_freq_telnet', 'word_freq_857', 'word_freq_data', 'word_freq_415', 'word_freq_85', 'word_freq_technology', 'word_freq_1999', 'word_freq_parts', 'word_freq_pm', 'word_freq_direct', 'word_freq_cs', 'word_freq_meeting', 'word_freq_original', 'word_freq_project', 'word_freq_re', 'word_freq_edu', 'word_freq_table', 'word_freq_conference', 'char_freq_;', 'char_freq_(', 'char_freq_[', 'char_freq_!', 'char_freq_$', 'char_freq_#', 'capital_run_length_average', 'capital_run_length_longest', 'capital_run_length_total', 'spam']\n"
     ]
    }
   ],
   "source": [
    "#handling spambase.names file\n",
    "def handle_spambase_names(df, filename):\n",
    "    names = []\n",
    "\n",
    "    with open(filename, 'r') as f:\n",
    "        for line in f:\n",
    "            if \":\" in line and not line.startswith(\"|\"):\n",
    "                name = line.split(':')[0]\n",
    "                names.append(name)\n",
    "\n",
    "    if 'spam' not in names:\n",
    "        names.append('spam')\n",
    "\n",
    "    if len(names) != len(df.columns):\n",
    "        raise ValueError(f\"Length mismatch: {len(names)} names, {len(df.columns)} columns\")\n",
    "\n",
    "    df.columns = names\n",
    "\n",
    "# Call the function\n",
    "handle_spambase_names(df, 'spambase.names')\n",
    "\n",
    "\n",
    "#Appending spam column to names list\n",
    "names = list(df.columns)\n",
    "print(names)\n",
    "\n",
    "\n",
    "\n",
    "\n"
   ]
  },
  {
   "cell_type": "code",
   "execution_count": 43,
   "metadata": {},
   "outputs": [
    {
     "name": "stdout",
     "output_type": "stream",
     "text": [
      "   word_freq_make  word_freq_address  word_freq_all  word_freq_3d  \\\n",
      "0            0.21               0.28           0.50           0.0   \n",
      "1            0.06               0.00           0.71           0.0   \n",
      "2            0.00               0.00           0.00           0.0   \n",
      "3            0.00               0.00           0.00           0.0   \n",
      "4            0.00               0.00           0.00           0.0   \n",
      "\n",
      "   word_freq_our  word_freq_over  word_freq_remove  word_freq_internet  \\\n",
      "0           0.14            0.28              0.21                0.07   \n",
      "1           1.23            0.19              0.19                0.12   \n",
      "2           0.63            0.00              0.31                0.63   \n",
      "3           0.63            0.00              0.31                0.63   \n",
      "4           1.85            0.00              0.00                1.85   \n",
      "\n",
      "   word_freq_order  word_freq_mail  ...  char_freq_;  char_freq_(  \\\n",
      "0             0.00            0.94  ...         0.00        0.132   \n",
      "1             0.64            0.25  ...         0.01        0.143   \n",
      "2             0.31            0.63  ...         0.00        0.137   \n",
      "3             0.31            0.63  ...         0.00        0.135   \n",
      "4             0.00            0.00  ...         0.00        0.223   \n",
      "\n",
      "   char_freq_[  char_freq_!  char_freq_$  char_freq_#  \\\n",
      "0          0.0        0.372        0.180        0.048   \n",
      "1          0.0        0.276        0.184        0.010   \n",
      "2          0.0        0.137        0.000        0.000   \n",
      "3          0.0        0.135        0.000        0.000   \n",
      "4          0.0        0.000        0.000        0.000   \n",
      "\n",
      "   capital_run_length_average  capital_run_length_longest  \\\n",
      "0                       5.114                         101   \n",
      "1                       9.821                         485   \n",
      "2                       3.537                          40   \n",
      "3                       3.537                          40   \n",
      "4                       3.000                          15   \n",
      "\n",
      "   capital_run_length_total  spam  \n",
      "0                      1028     1  \n",
      "1                      2259     1  \n",
      "2                       191     1  \n",
      "3                       191     1  \n",
      "4                        54     1  \n",
      "\n",
      "[5 rows x 58 columns]\n",
      "       word_freq_make  word_freq_address  word_freq_all  word_freq_3d  \\\n",
      "count     4600.000000        4600.000000    4600.000000   4600.000000   \n",
      "mean         0.104576           0.212922       0.280578      0.065439   \n",
      "std          0.305387           1.290700       0.504170      1.395303   \n",
      "min          0.000000           0.000000       0.000000      0.000000   \n",
      "25%          0.000000           0.000000       0.000000      0.000000   \n",
      "50%          0.000000           0.000000       0.000000      0.000000   \n",
      "75%          0.000000           0.000000       0.420000      0.000000   \n",
      "max          4.540000          14.280000       5.100000     42.810000   \n",
      "\n",
      "       word_freq_our  word_freq_over  word_freq_remove  word_freq_internet  \\\n",
      "count    4600.000000     4600.000000       4600.000000         4600.000000   \n",
      "mean        0.312222        0.095922          0.114233            0.105317   \n",
      "std         0.672586        0.273850          0.391480            0.401112   \n",
      "min         0.000000        0.000000          0.000000            0.000000   \n",
      "25%         0.000000        0.000000          0.000000            0.000000   \n",
      "50%         0.000000        0.000000          0.000000            0.000000   \n",
      "75%         0.382500        0.000000          0.000000            0.000000   \n",
      "max        10.000000        5.880000          7.270000           11.110000   \n",
      "\n",
      "       word_freq_order  word_freq_mail  ...  char_freq_;  char_freq_(  \\\n",
      "count      4600.000000     4600.000000  ...  4600.000000  4600.000000   \n",
      "mean          0.090087        0.239465  ...     0.038583     0.139061   \n",
      "std           0.278643        0.644816  ...     0.243497     0.270377   \n",
      "min           0.000000        0.000000  ...     0.000000     0.000000   \n",
      "25%           0.000000        0.000000  ...     0.000000     0.000000   \n",
      "50%           0.000000        0.000000  ...     0.000000     0.065000   \n",
      "75%           0.000000        0.160000  ...     0.000000     0.188000   \n",
      "max           5.260000       18.180000  ...     4.385000     9.752000   \n",
      "\n",
      "       char_freq_[  char_freq_!  char_freq_$  char_freq_#  \\\n",
      "count  4600.000000  4600.000000  4600.000000  4600.000000   \n",
      "mean      0.016980     0.268960     0.075827     0.044248   \n",
      "std       0.109406     0.815726     0.245906     0.429388   \n",
      "min       0.000000     0.000000     0.000000     0.000000   \n",
      "25%       0.000000     0.000000     0.000000     0.000000   \n",
      "50%       0.000000     0.000000     0.000000     0.000000   \n",
      "75%       0.000000     0.314250     0.052000     0.000000   \n",
      "max       4.081000    32.478000     6.003000    19.829000   \n",
      "\n",
      "       capital_run_length_average  capital_run_length_longest  \\\n",
      "count                 4600.000000                 4600.000000   \n",
      "mean                     5.191827                   52.170870   \n",
      "std                     31.732891                  194.912453   \n",
      "min                      1.000000                    1.000000   \n",
      "25%                      1.588000                    6.000000   \n",
      "50%                      2.275500                   15.000000   \n",
      "75%                      3.705250                   43.000000   \n",
      "max                   1102.500000                 9989.000000   \n",
      "\n",
      "       capital_run_length_total         spam  \n",
      "count               4600.000000  4600.000000  \n",
      "mean                 283.290435     0.393913  \n",
      "std                  606.413764     0.488669  \n",
      "min                    1.000000     0.000000  \n",
      "25%                   35.000000     0.000000  \n",
      "50%                   95.000000     0.000000  \n",
      "75%                  265.250000     1.000000  \n",
      "max                15841.000000     1.000000  \n",
      "\n",
      "[8 rows x 58 columns]\n",
      "<class 'pandas.core.frame.DataFrame'>\n",
      "RangeIndex: 4600 entries, 0 to 4599\n",
      "Data columns (total 58 columns):\n",
      " #   Column                      Non-Null Count  Dtype  \n",
      "---  ------                      --------------  -----  \n",
      " 0   word_freq_make              4600 non-null   float64\n",
      " 1   word_freq_address           4600 non-null   float64\n",
      " 2   word_freq_all               4600 non-null   float64\n",
      " 3   word_freq_3d                4600 non-null   float64\n",
      " 4   word_freq_our               4600 non-null   float64\n",
      " 5   word_freq_over              4600 non-null   float64\n",
      " 6   word_freq_remove            4600 non-null   float64\n",
      " 7   word_freq_internet          4600 non-null   float64\n",
      " 8   word_freq_order             4600 non-null   float64\n",
      " 9   word_freq_mail              4600 non-null   float64\n",
      " 10  word_freq_receive           4600 non-null   float64\n",
      " 11  word_freq_will              4600 non-null   float64\n",
      " 12  word_freq_people            4600 non-null   float64\n",
      " 13  word_freq_report            4600 non-null   float64\n",
      " 14  word_freq_addresses         4600 non-null   float64\n",
      " 15  word_freq_free              4600 non-null   float64\n",
      " 16  word_freq_business          4600 non-null   float64\n",
      " 17  word_freq_email             4600 non-null   float64\n",
      " 18  word_freq_you               4600 non-null   float64\n",
      " 19  word_freq_credit            4600 non-null   float64\n",
      " 20  word_freq_your              4600 non-null   float64\n",
      " 21  word_freq_font              4600 non-null   float64\n",
      " 22  word_freq_000               4600 non-null   float64\n",
      " 23  word_freq_money             4600 non-null   float64\n",
      " 24  word_freq_hp                4600 non-null   float64\n",
      " 25  word_freq_hpl               4600 non-null   float64\n",
      " 26  word_freq_george            4600 non-null   float64\n",
      " 27  word_freq_650               4600 non-null   float64\n",
      " 28  word_freq_lab               4600 non-null   float64\n",
      " 29  word_freq_labs              4600 non-null   float64\n",
      " 30  word_freq_telnet            4600 non-null   float64\n",
      " 31  word_freq_857               4600 non-null   float64\n",
      " 32  word_freq_data              4600 non-null   float64\n",
      " 33  word_freq_415               4600 non-null   float64\n",
      " 34  word_freq_85                4600 non-null   float64\n",
      " 35  word_freq_technology        4600 non-null   float64\n",
      " 36  word_freq_1999              4600 non-null   float64\n",
      " 37  word_freq_parts             4600 non-null   float64\n",
      " 38  word_freq_pm                4600 non-null   float64\n",
      " 39  word_freq_direct            4600 non-null   float64\n",
      " 40  word_freq_cs                4600 non-null   float64\n",
      " 41  word_freq_meeting           4600 non-null   float64\n",
      " 42  word_freq_original          4600 non-null   float64\n",
      " 43  word_freq_project           4600 non-null   float64\n",
      " 44  word_freq_re                4600 non-null   float64\n",
      " 45  word_freq_edu               4600 non-null   float64\n",
      " 46  word_freq_table             4600 non-null   float64\n",
      " 47  word_freq_conference        4600 non-null   float64\n",
      " 48  char_freq_;                 4600 non-null   float64\n",
      " 49  char_freq_(                 4600 non-null   float64\n",
      " 50  char_freq_[                 4600 non-null   float64\n",
      " 51  char_freq_!                 4600 non-null   float64\n",
      " 52  char_freq_$                 4600 non-null   float64\n",
      " 53  char_freq_#                 4600 non-null   float64\n",
      " 54  capital_run_length_average  4600 non-null   float64\n",
      " 55  capital_run_length_longest  4600 non-null   int64  \n",
      " 56  capital_run_length_total    4600 non-null   int64  \n",
      " 57  spam                        4600 non-null   int64  \n",
      "dtypes: float64(55), int64(3)\n",
      "memory usage: 2.0 MB\n",
      "None\n"
     ]
    }
   ],
   "source": [
    "print(df.head())\n",
    "print(df.describe())\n",
    "print(df.info())"
   ]
  },
  {
   "cell_type": "code",
   "execution_count": 44,
   "metadata": {},
   "outputs": [],
   "source": [
    "#Assuming that the target variable is 'spam' and the rest are features\n",
    "X = df.drop('spam', axis=1)\n",
    "y = df['spam']\n"
   ]
  },
  {
   "cell_type": "code",
   "execution_count": 45,
   "metadata": {},
   "outputs": [],
   "source": [
    "from imblearn.over_sampling import SMOTE\n",
    "\n",
    "smote = SMOTE(random_state=42)\n",
    "X, y = smote.fit_resample(X, y)"
   ]
  },
  {
   "cell_type": "code",
   "execution_count": 46,
   "metadata": {},
   "outputs": [],
   "source": [
    "#Split the data into training and testing sets\n",
    "from sklearn.model_selection import train_test_split\n",
    "X_train, X_test, y_train, y_test = train_test_split(X,y, test_size=0.3, random_state=42)"
   ]
  },
  {
   "cell_type": "code",
   "execution_count": 47,
   "metadata": {},
   "outputs": [
    {
     "data": {
      "text/html": [
       "<style>#sk-container-id-5 {color: black;}#sk-container-id-5 pre{padding: 0;}#sk-container-id-5 div.sk-toggleable {background-color: white;}#sk-container-id-5 label.sk-toggleable__label {cursor: pointer;display: block;width: 100%;margin-bottom: 0;padding: 0.3em;box-sizing: border-box;text-align: center;}#sk-container-id-5 label.sk-toggleable__label-arrow:before {content: \"▸\";float: left;margin-right: 0.25em;color: #696969;}#sk-container-id-5 label.sk-toggleable__label-arrow:hover:before {color: black;}#sk-container-id-5 div.sk-estimator:hover label.sk-toggleable__label-arrow:before {color: black;}#sk-container-id-5 div.sk-toggleable__content {max-height: 0;max-width: 0;overflow: hidden;text-align: left;background-color: #f0f8ff;}#sk-container-id-5 div.sk-toggleable__content pre {margin: 0.2em;color: black;border-radius: 0.25em;background-color: #f0f8ff;}#sk-container-id-5 input.sk-toggleable__control:checked~div.sk-toggleable__content {max-height: 200px;max-width: 100%;overflow: auto;}#sk-container-id-5 input.sk-toggleable__control:checked~label.sk-toggleable__label-arrow:before {content: \"▾\";}#sk-container-id-5 div.sk-estimator input.sk-toggleable__control:checked~label.sk-toggleable__label {background-color: #d4ebff;}#sk-container-id-5 div.sk-label input.sk-toggleable__control:checked~label.sk-toggleable__label {background-color: #d4ebff;}#sk-container-id-5 input.sk-hidden--visually {border: 0;clip: rect(1px 1px 1px 1px);clip: rect(1px, 1px, 1px, 1px);height: 1px;margin: -1px;overflow: hidden;padding: 0;position: absolute;width: 1px;}#sk-container-id-5 div.sk-estimator {font-family: monospace;background-color: #f0f8ff;border: 1px dotted black;border-radius: 0.25em;box-sizing: border-box;margin-bottom: 0.5em;}#sk-container-id-5 div.sk-estimator:hover {background-color: #d4ebff;}#sk-container-id-5 div.sk-parallel-item::after {content: \"\";width: 100%;border-bottom: 1px solid gray;flex-grow: 1;}#sk-container-id-5 div.sk-label:hover label.sk-toggleable__label {background-color: #d4ebff;}#sk-container-id-5 div.sk-serial::before {content: \"\";position: absolute;border-left: 1px solid gray;box-sizing: border-box;top: 0;bottom: 0;left: 50%;z-index: 0;}#sk-container-id-5 div.sk-serial {display: flex;flex-direction: column;align-items: center;background-color: white;padding-right: 0.2em;padding-left: 0.2em;position: relative;}#sk-container-id-5 div.sk-item {position: relative;z-index: 1;}#sk-container-id-5 div.sk-parallel {display: flex;align-items: stretch;justify-content: center;background-color: white;position: relative;}#sk-container-id-5 div.sk-item::before, #sk-container-id-5 div.sk-parallel-item::before {content: \"\";position: absolute;border-left: 1px solid gray;box-sizing: border-box;top: 0;bottom: 0;left: 50%;z-index: -1;}#sk-container-id-5 div.sk-parallel-item {display: flex;flex-direction: column;z-index: 1;position: relative;background-color: white;}#sk-container-id-5 div.sk-parallel-item:first-child::after {align-self: flex-end;width: 50%;}#sk-container-id-5 div.sk-parallel-item:last-child::after {align-self: flex-start;width: 50%;}#sk-container-id-5 div.sk-parallel-item:only-child::after {width: 0;}#sk-container-id-5 div.sk-dashed-wrapped {border: 1px dashed gray;margin: 0 0.4em 0.5em 0.4em;box-sizing: border-box;padding-bottom: 0.4em;background-color: white;}#sk-container-id-5 div.sk-label label {font-family: monospace;font-weight: bold;display: inline-block;line-height: 1.2em;}#sk-container-id-5 div.sk-label-container {text-align: center;}#sk-container-id-5 div.sk-container {/* jupyter's `normalize.less` sets `[hidden] { display: none; }` but bootstrap.min.css set `[hidden] { display: none !important; }` so we also need the `!important` here to be able to override the default hidden behavior on the sphinx rendered scikit-learn.org. See: https://github.com/scikit-learn/scikit-learn/issues/21755 */display: inline-block !important;position: relative;}#sk-container-id-5 div.sk-text-repr-fallback {display: none;}</style><div id=\"sk-container-id-5\" class=\"sk-top-container\"><div class=\"sk-text-repr-fallback\"><pre>LinearRegression()</pre><b>In a Jupyter environment, please rerun this cell to show the HTML representation or trust the notebook. <br />On GitHub, the HTML representation is unable to render, please try loading this page with nbviewer.org.</b></div><div class=\"sk-container\" hidden><div class=\"sk-item\"><div class=\"sk-estimator sk-toggleable\"><input class=\"sk-toggleable__control sk-hidden--visually\" id=\"sk-estimator-id-5\" type=\"checkbox\" checked><label for=\"sk-estimator-id-5\" class=\"sk-toggleable__label sk-toggleable__label-arrow\">LinearRegression</label><div class=\"sk-toggleable__content\"><pre>LinearRegression()</pre></div></div></div></div></div>"
      ],
      "text/plain": [
       "LinearRegression()"
      ]
     },
     "execution_count": 47,
     "metadata": {},
     "output_type": "execute_result"
    }
   ],
   "source": [
    "#model = RandomForestClassifier(n_estimators=100, random_state=42)\n",
    "from sklearn.linear_model import LinearRegression\n",
    "from sklearn.metrics import mean_squared_error, r2_score\n",
    "from math import sqrt\n",
    "\n",
    "LR = LinearRegression()\n",
    "LR.fit(X, y)"
   ]
  },
  {
   "cell_type": "code",
   "execution_count": 48,
   "metadata": {},
   "outputs": [
    {
     "name": "stdout",
     "output_type": "stream",
     "text": [
      "Index(['word_freq_make', 'word_freq_address', 'word_freq_all', 'word_freq_3d',\n",
      "       'word_freq_our', 'word_freq_over', 'word_freq_remove',\n",
      "       'word_freq_internet', 'word_freq_order', 'word_freq_mail',\n",
      "       'word_freq_receive', 'word_freq_will', 'word_freq_people',\n",
      "       'word_freq_report', 'word_freq_addresses', 'word_freq_free',\n",
      "       'word_freq_business', 'word_freq_email', 'word_freq_you',\n",
      "       'word_freq_credit', 'word_freq_your', 'word_freq_font', 'word_freq_000',\n",
      "       'word_freq_money', 'word_freq_hp', 'word_freq_hpl', 'word_freq_george',\n",
      "       'word_freq_650', 'word_freq_lab', 'word_freq_labs', 'word_freq_telnet',\n",
      "       'word_freq_857', 'word_freq_data', 'word_freq_415', 'word_freq_85',\n",
      "       'word_freq_technology', 'word_freq_1999', 'word_freq_parts',\n",
      "       'word_freq_pm', 'word_freq_direct', 'word_freq_cs', 'word_freq_meeting',\n",
      "       'word_freq_original', 'word_freq_project', 'word_freq_re',\n",
      "       'word_freq_edu', 'word_freq_table', 'word_freq_conference',\n",
      "       'char_freq_;', 'char_freq_(', 'char_freq_[', 'char_freq_!',\n",
      "       'char_freq_$', 'char_freq_#', 'capital_run_length_average',\n",
      "       'capital_run_length_longest', 'capital_run_length_total', 'spam'],\n",
      "      dtype='object')\n"
     ]
    }
   ],
   "source": [
    "# Assuming that 'spam' is your target variable include it  the original DataFrame \n",
    "df['spam'] = y\n",
    "\n",
    "\n",
    "\n",
    "print(df.columns)"
   ]
  },
  {
   "cell_type": "code",
   "execution_count": 49,
   "metadata": {},
   "outputs": [],
   "source": [
    "#Make predictions using the testing set\n",
    "y_pred = LR.predict(X_test)"
   ]
  },
  {
   "cell_type": "code",
   "execution_count": 50,
   "metadata": {},
   "outputs": [
    {
     "name": "stdout",
     "output_type": "stream",
     "text": [
      "RMSE:  0.33064792453238684\n",
      "R^2:  0.5624500256642398\n"
     ]
    }
   ],
   "source": [
    "#Compute RMSE and R^2\n",
    "print(\"RMSE: \", sqrt(mean_squared_error(y_test, y_pred)))\n",
    "print(\"R^2: \", r2_score(y_test, y_pred))"
   ]
  },
  {
   "cell_type": "code",
   "execution_count": 51,
   "metadata": {},
   "outputs": [
    {
     "name": "stdout",
     "output_type": "stream",
     "text": [
      "Accuracy:  0.9001793185893604\n"
     ]
    }
   ],
   "source": [
    "from sklearn.metrics import accuracy_score, precision_score, recall_score, f1_score\n",
    "\n",
    "#Compute accuracy\n",
    "print(\"Accuracy: \", accuracy_score(y_test, y_pred.round()))\n",
    "\n"
   ]
  }
 ],
 "metadata": {
  "kernelspec": {
   "display_name": "Python 3",
   "language": "python",
   "name": "python3"
  },
  "language_info": {
   "codemirror_mode": {
    "name": "ipython",
    "version": 3
   },
   "file_extension": ".py",
   "mimetype": "text/x-python",
   "name": "python",
   "nbconvert_exporter": "python",
   "pygments_lexer": "ipython3",
   "version": "3.11.7"
  }
 },
 "nbformat": 4,
 "nbformat_minor": 2
}
